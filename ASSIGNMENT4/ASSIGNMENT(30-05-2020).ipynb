{
 "cells": [
  {
   "cell_type": "markdown",
   "metadata": {},
   "source": [
    "# CSE-221710315014-G Nikhila"
   ]
  },
  {
   "cell_type": "markdown",
   "metadata": {},
   "source": [
    "### Question 1:\n",
    "#### Count the no.of words,no.of letters,no.of lines available in your file\n"
   ]
  },
  {
   "cell_type": "code",
   "execution_count": 1,
   "metadata": {},
   "outputs": [],
   "source": [
    "f = open(\"sample.txt\",\"w\")\n",
    "f.write(\"Hello everyone:)This is machine learning and artificial intelligence wirh python\")\n",
    "f.close()"
   ]
  },
  {
   "cell_type": "code",
   "execution_count": 2,
   "metadata": {},
   "outputs": [
    {
     "name": "stdout",
     "output_type": "stream",
     "text": [
      "Enter file name: sample.txt\n",
      "Number of lines:\n",
      "1\n",
      "Number of words:\n",
      "10\n",
      "Number of letters:\n",
      "71\n"
     ]
    }
   ],
   "source": [
    "\n",
    "fname = input(\"Enter file name: \")\n",
    " \n",
    "num_words = 0\n",
    "num_lines =0\n",
    "num_letter=0\n",
    "with open(fname, 'r') as f:\n",
    "    for line in f:\n",
    "        words = line.split()\n",
    "        num_words += len(words)\n",
    "with open(fname, 'r') as f:\n",
    "    for line in f:\n",
    "        num_lines += 1\n",
    "with open(fname,'r') as f:\n",
    "    for line in f:\n",
    "        words=line.split()\n",
    "        for i in words:\n",
    "            \n",
    "                num_letter+=len(i)\n",
    "print(\"Number of lines:\")\n",
    "print(num_lines)\n",
    "print(\"Number of words:\")\n",
    "print(num_words)\n",
    "print(\"Number of letters:\")\n",
    "print(num_letter)"
   ]
  },
  {
   "cell_type": "markdown",
   "metadata": {},
   "source": [
    "### Question 2:\n",
    "#### Copy the content of one file to another"
   ]
  },
  {
   "cell_type": "code",
   "execution_count": 3,
   "metadata": {},
   "outputs": [
    {
     "name": "stdout",
     "output_type": "stream",
     "text": [
      "AI and ML With Python,Advanced Programming,Data Science With Python,Full Stack\n"
     ]
    }
   ],
   "source": [
    "f = open(\"sample.txt\",\"w\")\n",
    "f.write(\"AI and ML With Python,Advanced Programming,Data Science With Python,Full Stack\")\n",
    "f.close()\n",
    "f = open(\"sample.txt\",\"r\")\n",
    "data = f.read()\n",
    "print(data)\n",
    "f.close()\n",
    "f = open(\"sample1.txt\",\"w\")\n",
    "f.write(\"\")\n",
    "f.close()\n",
    "with open(\"sample.txt\") as f:\n",
    "    with open(\"sample1.txt\", \"w\") as f1:\n",
    "        for line in f:\n",
    "            f1.write(line)"
   ]
  },
  {
   "cell_type": "markdown",
   "metadata": {},
   "source": [
    "### Question 3:\n",
    "#### Display the words starting with letter 'p'"
   ]
  },
  {
   "cell_type": "code",
   "execution_count": 4,
   "metadata": {},
   "outputs": [
    {
     "name": "stdout",
     "output_type": "stream",
     "text": [
      "python\n",
      "professional\n",
      "programming\n"
     ]
    }
   ],
   "source": [
    "Stat = 'python is a professional programming language'\n",
    "List = Stat.split()\n",
    "for s in List:\n",
    "    if s.startswith('p'):\n",
    "        print(s)"
   ]
  },
  {
   "cell_type": "markdown",
   "metadata": {},
   "source": [
    "### Question 4:\n",
    "#### Rename and remove files\n"
   ]
  },
  {
   "cell_type": "code",
   "execution_count": null,
   "metadata": {},
   "outputs": [],
   "source": [
    "import os\n",
    "# Rename a file from sample1.txt to CoursesOpted.txt\n",
    "os.rename( \"sample1.txt\", \"CoursesOpted.txt\" )"
   ]
  },
  {
   "cell_type": "code",
   "execution_count": null,
   "metadata": {},
   "outputs": [],
   "source": [
    "import os\n",
    "# Delete file CoursesOpted.txt\n",
    "os.remove(\"CoursesOpted.txt\")"
   ]
  },
  {
   "cell_type": "markdown",
   "metadata": {},
   "source": [
    "### Question 5:\n",
    "#####  Create a folder\n",
    "#####  Goto that folder and create 5 no.of files\n",
    "#####  All the file names should be unique\n",
    "#####  Add some content into the file and the content in all the files should be unique\n",
    "#####  File size should be 512bits"
   ]
  },
  {
   "cell_type": "code",
   "execution_count": 3,
   "metadata": {},
   "outputs": [],
   "source": [
    "import os\n",
    "import string\n",
    "import random\n",
    "#os.mkdir(\"python class\")\n",
    "for i in range(1,6):\n",
    "    file_name=\"C:\\\\Users\\\\Nikhila Garlapati\\\\Desktop\\\\AIANDML\\\\ASSIGNMENT4\\\\python class\\\\file%d\"%(i)\n",
    "    f=open(file_name,\"w\")\n",
    "    data = \"\"\n",
    "    for i in range(512):\n",
    "        data = data + random.choice(string.ascii_letters)\n",
    "    f.write(data)\n",
    "    f.close()"
   ]
  },
  {
   "cell_type": "code",
   "execution_count": 2,
   "metadata": {},
   "outputs": [
    {
     "data": {
      "text/plain": [
       "'C:\\\\Users\\\\Nikhila Garlapati\\\\Desktop\\\\AIANDML\\\\ASSIGNMENT4'"
      ]
     },
     "execution_count": 2,
     "metadata": {},
     "output_type": "execute_result"
    }
   ],
   "source": [
    "pwd"
   ]
  },
  {
   "cell_type": "code",
   "execution_count": null,
   "metadata": {},
   "outputs": [],
   "source": []
  }
 ],
 "metadata": {
  "kernelspec": {
   "display_name": "Python 3",
   "language": "python",
   "name": "python3"
  },
  "language_info": {
   "codemirror_mode": {
    "name": "ipython",
    "version": 3
   },
   "file_extension": ".py",
   "mimetype": "text/x-python",
   "name": "python",
   "nbconvert_exporter": "python",
   "pygments_lexer": "ipython3",
   "version": "3.7.4"
  }
 },
 "nbformat": 4,
 "nbformat_minor": 2
}
